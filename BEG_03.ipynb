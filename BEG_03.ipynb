{
  "nbformat": 4,
  "nbformat_minor": 0,
  "metadata": {
    "colab": {
      "name": "Task03-LGMVIM.ipynb",
      "provenance": [],
      "collapsed_sections": []
    },
    "kernelspec": {
      "name": "python3",
      "display_name": "Python 3"
    },
    "language_info": {
      "name": "python"
    }
  },
  "cells": [
    {
      "cell_type": "markdown",
      "source": [
        "# **LetsGrowMore**\n",
        "### Beginner Level Task : Data Science\n",
        "#### Author: Anshul Chaurasiya\n",
        "---\n",
        "MUSIC RECOMMENDATION\n",
        "###### This can suggest songs to users based on their listening patterns.\n",
        "Dataset: https://www.kaggle.com/competitions/kkbox-music-recommendation-challenge/data?select=members.csv.7z"
      ],
      "metadata": {
        "id": "yDNvTvIyqchw"
      }
    },
    {
      "cell_type": "code",
      "source": [
        "#importing the modules\n",
        "import pandas as pd\n",
        "import numpy as np\n",
        "import seaborn as sns\n",
        "import matplotlib.pyplot as plt\n",
        "import warnings\n",
        "warnings.filterwarnings('ignore')"
      ],
      "metadata": {
        "id": "8EsTAd1ctxZ2"
      },
      "execution_count": 2,
      "outputs": []
    },
    {
      "cell_type": "code",
      "source": [
        "#import data\n",
        "members=pd.read_csv('members.csv')\n",
        "songs= pd.read_csv('songs.csv')\n",
        "train= pd.read_csv('train.csv')"
      ],
      "metadata": {
        "id": "Uy_fsbQaudI9"
      },
      "execution_count": 3,
      "outputs": []
    },
    {
      "cell_type": "code",
      "source": [
        "train.head()"
      ],
      "metadata": {
        "id": "a6FG0b0SBBpG",
        "colab": {
          "base_uri": "https://localhost:8080/",
          "height": 206
        },
        "outputId": "c34edec6-d00c-4cd8-d895-303b211ee3a4"
      },
      "execution_count": 4,
      "outputs": [
        {
          "output_type": "execute_result",
          "data": {
            "text/plain": [
              "                                           msno  \\\n",
              "0  FGtllVqz18RPiwJj/edr2gV78zirAiY/9SmYvia+kCg=   \n",
              "1  Xumu+NIjS6QYVxDS4/t3SawvJ7viT9hPKXmf0RtLNx8=   \n",
              "2  Xumu+NIjS6QYVxDS4/t3SawvJ7viT9hPKXmf0RtLNx8=   \n",
              "3  Xumu+NIjS6QYVxDS4/t3SawvJ7viT9hPKXmf0RtLNx8=   \n",
              "4  FGtllVqz18RPiwJj/edr2gV78zirAiY/9SmYvia+kCg=   \n",
              "\n",
              "                                        song_id source_system_tab  \\\n",
              "0  BBzumQNXUHKdEBOB7mAJuzok+IJA1c2Ryg/yzTF6tik=           explore   \n",
              "1  bhp/MpSNoqoxOIB+/l8WPqu6jldth4DIpCm3ayXnJqM=        my library   \n",
              "2  JNWfrrC7zNN7BdMpsISKa4Mw+xVJYNnxXh3/Epw7QgY=        my library   \n",
              "3  2A87tzfnJTSWqD7gIZHisolhe4DMdzkbd6LzO1KHjNs=        my library   \n",
              "4  3qm6XTZ6MOCU11x8FIVbAGH5l5uMkT3/ZalWG1oo2Gc=           explore   \n",
              "\n",
              "    source_screen_name      source_type  target  \n",
              "0              Explore  online-playlist     1.0  \n",
              "1  Local playlist more   local-playlist     1.0  \n",
              "2  Local playlist more   local-playlist     1.0  \n",
              "3  Local playlist more   local-playlist     1.0  \n",
              "4              Explore  online-playlist     1.0  "
            ],
            "text/html": [
              "\n",
              "  <div id=\"df-604b7b80-7c08-41f9-b36e-22b0dedab11c\">\n",
              "    <div class=\"colab-df-container\">\n",
              "      <div>\n",
              "<style scoped>\n",
              "    .dataframe tbody tr th:only-of-type {\n",
              "        vertical-align: middle;\n",
              "    }\n",
              "\n",
              "    .dataframe tbody tr th {\n",
              "        vertical-align: top;\n",
              "    }\n",
              "\n",
              "    .dataframe thead th {\n",
              "        text-align: right;\n",
              "    }\n",
              "</style>\n",
              "<table border=\"1\" class=\"dataframe\">\n",
              "  <thead>\n",
              "    <tr style=\"text-align: right;\">\n",
              "      <th></th>\n",
              "      <th>msno</th>\n",
              "      <th>song_id</th>\n",
              "      <th>source_system_tab</th>\n",
              "      <th>source_screen_name</th>\n",
              "      <th>source_type</th>\n",
              "      <th>target</th>\n",
              "    </tr>\n",
              "  </thead>\n",
              "  <tbody>\n",
              "    <tr>\n",
              "      <th>0</th>\n",
              "      <td>FGtllVqz18RPiwJj/edr2gV78zirAiY/9SmYvia+kCg=</td>\n",
              "      <td>BBzumQNXUHKdEBOB7mAJuzok+IJA1c2Ryg/yzTF6tik=</td>\n",
              "      <td>explore</td>\n",
              "      <td>Explore</td>\n",
              "      <td>online-playlist</td>\n",
              "      <td>1.0</td>\n",
              "    </tr>\n",
              "    <tr>\n",
              "      <th>1</th>\n",
              "      <td>Xumu+NIjS6QYVxDS4/t3SawvJ7viT9hPKXmf0RtLNx8=</td>\n",
              "      <td>bhp/MpSNoqoxOIB+/l8WPqu6jldth4DIpCm3ayXnJqM=</td>\n",
              "      <td>my library</td>\n",
              "      <td>Local playlist more</td>\n",
              "      <td>local-playlist</td>\n",
              "      <td>1.0</td>\n",
              "    </tr>\n",
              "    <tr>\n",
              "      <th>2</th>\n",
              "      <td>Xumu+NIjS6QYVxDS4/t3SawvJ7viT9hPKXmf0RtLNx8=</td>\n",
              "      <td>JNWfrrC7zNN7BdMpsISKa4Mw+xVJYNnxXh3/Epw7QgY=</td>\n",
              "      <td>my library</td>\n",
              "      <td>Local playlist more</td>\n",
              "      <td>local-playlist</td>\n",
              "      <td>1.0</td>\n",
              "    </tr>\n",
              "    <tr>\n",
              "      <th>3</th>\n",
              "      <td>Xumu+NIjS6QYVxDS4/t3SawvJ7viT9hPKXmf0RtLNx8=</td>\n",
              "      <td>2A87tzfnJTSWqD7gIZHisolhe4DMdzkbd6LzO1KHjNs=</td>\n",
              "      <td>my library</td>\n",
              "      <td>Local playlist more</td>\n",
              "      <td>local-playlist</td>\n",
              "      <td>1.0</td>\n",
              "    </tr>\n",
              "    <tr>\n",
              "      <th>4</th>\n",
              "      <td>FGtllVqz18RPiwJj/edr2gV78zirAiY/9SmYvia+kCg=</td>\n",
              "      <td>3qm6XTZ6MOCU11x8FIVbAGH5l5uMkT3/ZalWG1oo2Gc=</td>\n",
              "      <td>explore</td>\n",
              "      <td>Explore</td>\n",
              "      <td>online-playlist</td>\n",
              "      <td>1.0</td>\n",
              "    </tr>\n",
              "  </tbody>\n",
              "</table>\n",
              "</div>\n",
              "      <button class=\"colab-df-convert\" onclick=\"convertToInteractive('df-604b7b80-7c08-41f9-b36e-22b0dedab11c')\"\n",
              "              title=\"Convert this dataframe to an interactive table.\"\n",
              "              style=\"display:none;\">\n",
              "        \n",
              "  <svg xmlns=\"http://www.w3.org/2000/svg\" height=\"24px\"viewBox=\"0 0 24 24\"\n",
              "       width=\"24px\">\n",
              "    <path d=\"M0 0h24v24H0V0z\" fill=\"none\"/>\n",
              "    <path d=\"M18.56 5.44l.94 2.06.94-2.06 2.06-.94-2.06-.94-.94-2.06-.94 2.06-2.06.94zm-11 1L8.5 8.5l.94-2.06 2.06-.94-2.06-.94L8.5 2.5l-.94 2.06-2.06.94zm10 10l.94 2.06.94-2.06 2.06-.94-2.06-.94-.94-2.06-.94 2.06-2.06.94z\"/><path d=\"M17.41 7.96l-1.37-1.37c-.4-.4-.92-.59-1.43-.59-.52 0-1.04.2-1.43.59L10.3 9.45l-7.72 7.72c-.78.78-.78 2.05 0 2.83L4 21.41c.39.39.9.59 1.41.59.51 0 1.02-.2 1.41-.59l7.78-7.78 2.81-2.81c.8-.78.8-2.07 0-2.86zM5.41 20L4 18.59l7.72-7.72 1.47 1.35L5.41 20z\"/>\n",
              "  </svg>\n",
              "      </button>\n",
              "      \n",
              "  <style>\n",
              "    .colab-df-container {\n",
              "      display:flex;\n",
              "      flex-wrap:wrap;\n",
              "      gap: 12px;\n",
              "    }\n",
              "\n",
              "    .colab-df-convert {\n",
              "      background-color: #E8F0FE;\n",
              "      border: none;\n",
              "      border-radius: 50%;\n",
              "      cursor: pointer;\n",
              "      display: none;\n",
              "      fill: #1967D2;\n",
              "      height: 32px;\n",
              "      padding: 0 0 0 0;\n",
              "      width: 32px;\n",
              "    }\n",
              "\n",
              "    .colab-df-convert:hover {\n",
              "      background-color: #E2EBFA;\n",
              "      box-shadow: 0px 1px 2px rgba(60, 64, 67, 0.3), 0px 1px 3px 1px rgba(60, 64, 67, 0.15);\n",
              "      fill: #174EA6;\n",
              "    }\n",
              "\n",
              "    [theme=dark] .colab-df-convert {\n",
              "      background-color: #3B4455;\n",
              "      fill: #D2E3FC;\n",
              "    }\n",
              "\n",
              "    [theme=dark] .colab-df-convert:hover {\n",
              "      background-color: #434B5C;\n",
              "      box-shadow: 0px 1px 3px 1px rgba(0, 0, 0, 0.15);\n",
              "      filter: drop-shadow(0px 1px 2px rgba(0, 0, 0, 0.3));\n",
              "      fill: #FFFFFF;\n",
              "    }\n",
              "  </style>\n",
              "\n",
              "      <script>\n",
              "        const buttonEl =\n",
              "          document.querySelector('#df-604b7b80-7c08-41f9-b36e-22b0dedab11c button.colab-df-convert');\n",
              "        buttonEl.style.display =\n",
              "          google.colab.kernel.accessAllowed ? 'block' : 'none';\n",
              "\n",
              "        async function convertToInteractive(key) {\n",
              "          const element = document.querySelector('#df-604b7b80-7c08-41f9-b36e-22b0dedab11c');\n",
              "          const dataTable =\n",
              "            await google.colab.kernel.invokeFunction('convertToInteractive',\n",
              "                                                     [key], {});\n",
              "          if (!dataTable) return;\n",
              "\n",
              "          const docLinkHtml = 'Like what you see? Visit the ' +\n",
              "            '<a target=\"_blank\" href=https://colab.research.google.com/notebooks/data_table.ipynb>data table notebook</a>'\n",
              "            + ' to learn more about interactive tables.';\n",
              "          element.innerHTML = '';\n",
              "          dataTable['output_type'] = 'display_data';\n",
              "          await google.colab.output.renderOutput(dataTable, element);\n",
              "          const docLink = document.createElement('div');\n",
              "          docLink.innerHTML = docLinkHtml;\n",
              "          element.appendChild(docLink);\n",
              "        }\n",
              "      </script>\n",
              "    </div>\n",
              "  </div>\n",
              "  "
            ]
          },
          "metadata": {},
          "execution_count": 4
        }
      ]
    },
    {
      "cell_type": "code",
      "source": [
        "songs.head()"
      ],
      "metadata": {
        "id": "igZM1gkfBnIM",
        "colab": {
          "base_uri": "https://localhost:8080/",
          "height": 206
        },
        "outputId": "1fd32b4a-6777-40e5-dcdb-76b77fca5d74"
      },
      "execution_count": 5,
      "outputs": [
        {
          "output_type": "execute_result",
          "data": {
            "text/plain": [
              "                                        song_id  song_length genre_ids  \\\n",
              "0  CXoTN1eb7AI+DntdU1vbcwGRV4SCIDxZu+YD8JP8r4E=     247640.0       465   \n",
              "1  o0kFgae9QtnYgRkVPqLJwa05zIhRlUjfF7O1tDw0ZDU=     197328.0       444   \n",
              "2  DwVvVurfpuz+XPuFvucclVQEyPqcpUkHR0ne1RQzPs0=     231781.0       465   \n",
              "3  dKMBWoZyScdxSkihKG+Vf47nc18N9q4m58+b4e7dSSE=     273554.0       465   \n",
              "4  W3bqWd3T+VeHFzHAUfARgW9AvVRaF4N5Yzm4Mr6Eo/o=     140329.0       726   \n",
              "\n",
              "        artist_name                            composer     lyricist  language  \n",
              "0  張信哲 (Jeff Chang)                                  董貞          何啟弘       3.0  \n",
              "1         BLACKPINK  TEDDY|  FUTURE BOUNCE|  Bekuh BOOM        TEDDY      31.0  \n",
              "2      SUPER JUNIOR                                 NaN          NaN      31.0  \n",
              "3             S.H.E                                 湯小康          徐世珍       3.0  \n",
              "4              貴族精選                         Traditional  Traditional      52.0  "
            ],
            "text/html": [
              "\n",
              "  <div id=\"df-079bea52-2941-4fa2-808b-abf577cc6c72\">\n",
              "    <div class=\"colab-df-container\">\n",
              "      <div>\n",
              "<style scoped>\n",
              "    .dataframe tbody tr th:only-of-type {\n",
              "        vertical-align: middle;\n",
              "    }\n",
              "\n",
              "    .dataframe tbody tr th {\n",
              "        vertical-align: top;\n",
              "    }\n",
              "\n",
              "    .dataframe thead th {\n",
              "        text-align: right;\n",
              "    }\n",
              "</style>\n",
              "<table border=\"1\" class=\"dataframe\">\n",
              "  <thead>\n",
              "    <tr style=\"text-align: right;\">\n",
              "      <th></th>\n",
              "      <th>song_id</th>\n",
              "      <th>song_length</th>\n",
              "      <th>genre_ids</th>\n",
              "      <th>artist_name</th>\n",
              "      <th>composer</th>\n",
              "      <th>lyricist</th>\n",
              "      <th>language</th>\n",
              "    </tr>\n",
              "  </thead>\n",
              "  <tbody>\n",
              "    <tr>\n",
              "      <th>0</th>\n",
              "      <td>CXoTN1eb7AI+DntdU1vbcwGRV4SCIDxZu+YD8JP8r4E=</td>\n",
              "      <td>247640.0</td>\n",
              "      <td>465</td>\n",
              "      <td>張信哲 (Jeff Chang)</td>\n",
              "      <td>董貞</td>\n",
              "      <td>何啟弘</td>\n",
              "      <td>3.0</td>\n",
              "    </tr>\n",
              "    <tr>\n",
              "      <th>1</th>\n",
              "      <td>o0kFgae9QtnYgRkVPqLJwa05zIhRlUjfF7O1tDw0ZDU=</td>\n",
              "      <td>197328.0</td>\n",
              "      <td>444</td>\n",
              "      <td>BLACKPINK</td>\n",
              "      <td>TEDDY|  FUTURE BOUNCE|  Bekuh BOOM</td>\n",
              "      <td>TEDDY</td>\n",
              "      <td>31.0</td>\n",
              "    </tr>\n",
              "    <tr>\n",
              "      <th>2</th>\n",
              "      <td>DwVvVurfpuz+XPuFvucclVQEyPqcpUkHR0ne1RQzPs0=</td>\n",
              "      <td>231781.0</td>\n",
              "      <td>465</td>\n",
              "      <td>SUPER JUNIOR</td>\n",
              "      <td>NaN</td>\n",
              "      <td>NaN</td>\n",
              "      <td>31.0</td>\n",
              "    </tr>\n",
              "    <tr>\n",
              "      <th>3</th>\n",
              "      <td>dKMBWoZyScdxSkihKG+Vf47nc18N9q4m58+b4e7dSSE=</td>\n",
              "      <td>273554.0</td>\n",
              "      <td>465</td>\n",
              "      <td>S.H.E</td>\n",
              "      <td>湯小康</td>\n",
              "      <td>徐世珍</td>\n",
              "      <td>3.0</td>\n",
              "    </tr>\n",
              "    <tr>\n",
              "      <th>4</th>\n",
              "      <td>W3bqWd3T+VeHFzHAUfARgW9AvVRaF4N5Yzm4Mr6Eo/o=</td>\n",
              "      <td>140329.0</td>\n",
              "      <td>726</td>\n",
              "      <td>貴族精選</td>\n",
              "      <td>Traditional</td>\n",
              "      <td>Traditional</td>\n",
              "      <td>52.0</td>\n",
              "    </tr>\n",
              "  </tbody>\n",
              "</table>\n",
              "</div>\n",
              "      <button class=\"colab-df-convert\" onclick=\"convertToInteractive('df-079bea52-2941-4fa2-808b-abf577cc6c72')\"\n",
              "              title=\"Convert this dataframe to an interactive table.\"\n",
              "              style=\"display:none;\">\n",
              "        \n",
              "  <svg xmlns=\"http://www.w3.org/2000/svg\" height=\"24px\"viewBox=\"0 0 24 24\"\n",
              "       width=\"24px\">\n",
              "    <path d=\"M0 0h24v24H0V0z\" fill=\"none\"/>\n",
              "    <path d=\"M18.56 5.44l.94 2.06.94-2.06 2.06-.94-2.06-.94-.94-2.06-.94 2.06-2.06.94zm-11 1L8.5 8.5l.94-2.06 2.06-.94-2.06-.94L8.5 2.5l-.94 2.06-2.06.94zm10 10l.94 2.06.94-2.06 2.06-.94-2.06-.94-.94-2.06-.94 2.06-2.06.94z\"/><path d=\"M17.41 7.96l-1.37-1.37c-.4-.4-.92-.59-1.43-.59-.52 0-1.04.2-1.43.59L10.3 9.45l-7.72 7.72c-.78.78-.78 2.05 0 2.83L4 21.41c.39.39.9.59 1.41.59.51 0 1.02-.2 1.41-.59l7.78-7.78 2.81-2.81c.8-.78.8-2.07 0-2.86zM5.41 20L4 18.59l7.72-7.72 1.47 1.35L5.41 20z\"/>\n",
              "  </svg>\n",
              "      </button>\n",
              "      \n",
              "  <style>\n",
              "    .colab-df-container {\n",
              "      display:flex;\n",
              "      flex-wrap:wrap;\n",
              "      gap: 12px;\n",
              "    }\n",
              "\n",
              "    .colab-df-convert {\n",
              "      background-color: #E8F0FE;\n",
              "      border: none;\n",
              "      border-radius: 50%;\n",
              "      cursor: pointer;\n",
              "      display: none;\n",
              "      fill: #1967D2;\n",
              "      height: 32px;\n",
              "      padding: 0 0 0 0;\n",
              "      width: 32px;\n",
              "    }\n",
              "\n",
              "    .colab-df-convert:hover {\n",
              "      background-color: #E2EBFA;\n",
              "      box-shadow: 0px 1px 2px rgba(60, 64, 67, 0.3), 0px 1px 3px 1px rgba(60, 64, 67, 0.15);\n",
              "      fill: #174EA6;\n",
              "    }\n",
              "\n",
              "    [theme=dark] .colab-df-convert {\n",
              "      background-color: #3B4455;\n",
              "      fill: #D2E3FC;\n",
              "    }\n",
              "\n",
              "    [theme=dark] .colab-df-convert:hover {\n",
              "      background-color: #434B5C;\n",
              "      box-shadow: 0px 1px 3px 1px rgba(0, 0, 0, 0.15);\n",
              "      filter: drop-shadow(0px 1px 2px rgba(0, 0, 0, 0.3));\n",
              "      fill: #FFFFFF;\n",
              "    }\n",
              "  </style>\n",
              "\n",
              "      <script>\n",
              "        const buttonEl =\n",
              "          document.querySelector('#df-079bea52-2941-4fa2-808b-abf577cc6c72 button.colab-df-convert');\n",
              "        buttonEl.style.display =\n",
              "          google.colab.kernel.accessAllowed ? 'block' : 'none';\n",
              "\n",
              "        async function convertToInteractive(key) {\n",
              "          const element = document.querySelector('#df-079bea52-2941-4fa2-808b-abf577cc6c72');\n",
              "          const dataTable =\n",
              "            await google.colab.kernel.invokeFunction('convertToInteractive',\n",
              "                                                     [key], {});\n",
              "          if (!dataTable) return;\n",
              "\n",
              "          const docLinkHtml = 'Like what you see? Visit the ' +\n",
              "            '<a target=\"_blank\" href=https://colab.research.google.com/notebooks/data_table.ipynb>data table notebook</a>'\n",
              "            + ' to learn more about interactive tables.';\n",
              "          element.innerHTML = '';\n",
              "          dataTable['output_type'] = 'display_data';\n",
              "          await google.colab.output.renderOutput(dataTable, element);\n",
              "          const docLink = document.createElement('div');\n",
              "          docLink.innerHTML = docLinkHtml;\n",
              "          element.appendChild(docLink);\n",
              "        }\n",
              "      </script>\n",
              "    </div>\n",
              "  </div>\n",
              "  "
            ]
          },
          "metadata": {},
          "execution_count": 5
        }
      ]
    },
    {
      "cell_type": "code",
      "source": [
        "members.head()"
      ],
      "metadata": {
        "id": "gDwvmgGiBqK5",
        "colab": {
          "base_uri": "https://localhost:8080/",
          "height": 206
        },
        "outputId": "385c0bd4-a156-4aa8-801b-0aa74c632629"
      },
      "execution_count": 6,
      "outputs": [
        {
          "output_type": "execute_result",
          "data": {
            "text/plain": [
              "                                           msno  city  bd gender  \\\n",
              "0  XQxgAYj3klVKjR3oxPPXYYFp4soD4TuBghkhMTD4oTw=     1   0    NaN   \n",
              "1  UizsfmJb9mV54qE9hCYyU07Va97c0lCRLEQX3ae+ztM=     1   0    NaN   \n",
              "2  D8nEhsIOBSoE6VthTaqDX8U6lqjJ7dLdr72mOyLya2A=     1   0    NaN   \n",
              "3  mCuD+tZ1hERA/o5GPqk38e041J8ZsBaLcu7nGoIIvhI=     1   0    NaN   \n",
              "4  q4HRBfVSssAFS9iRfxWrohxuk9kCYMKjHOEagUMV6rQ=     1   0    NaN   \n",
              "\n",
              "   registered_via  registration_init_time  expiration_date  \n",
              "0               7                20110820         20170920  \n",
              "1               7                20150628         20170622  \n",
              "2               4                20160411         20170712  \n",
              "3               9                20150906         20150907  \n",
              "4               4                20170126         20170613  "
            ],
            "text/html": [
              "\n",
              "  <div id=\"df-4a7ded98-3308-4988-8afd-a58368a8cc15\">\n",
              "    <div class=\"colab-df-container\">\n",
              "      <div>\n",
              "<style scoped>\n",
              "    .dataframe tbody tr th:only-of-type {\n",
              "        vertical-align: middle;\n",
              "    }\n",
              "\n",
              "    .dataframe tbody tr th {\n",
              "        vertical-align: top;\n",
              "    }\n",
              "\n",
              "    .dataframe thead th {\n",
              "        text-align: right;\n",
              "    }\n",
              "</style>\n",
              "<table border=\"1\" class=\"dataframe\">\n",
              "  <thead>\n",
              "    <tr style=\"text-align: right;\">\n",
              "      <th></th>\n",
              "      <th>msno</th>\n",
              "      <th>city</th>\n",
              "      <th>bd</th>\n",
              "      <th>gender</th>\n",
              "      <th>registered_via</th>\n",
              "      <th>registration_init_time</th>\n",
              "      <th>expiration_date</th>\n",
              "    </tr>\n",
              "  </thead>\n",
              "  <tbody>\n",
              "    <tr>\n",
              "      <th>0</th>\n",
              "      <td>XQxgAYj3klVKjR3oxPPXYYFp4soD4TuBghkhMTD4oTw=</td>\n",
              "      <td>1</td>\n",
              "      <td>0</td>\n",
              "      <td>NaN</td>\n",
              "      <td>7</td>\n",
              "      <td>20110820</td>\n",
              "      <td>20170920</td>\n",
              "    </tr>\n",
              "    <tr>\n",
              "      <th>1</th>\n",
              "      <td>UizsfmJb9mV54qE9hCYyU07Va97c0lCRLEQX3ae+ztM=</td>\n",
              "      <td>1</td>\n",
              "      <td>0</td>\n",
              "      <td>NaN</td>\n",
              "      <td>7</td>\n",
              "      <td>20150628</td>\n",
              "      <td>20170622</td>\n",
              "    </tr>\n",
              "    <tr>\n",
              "      <th>2</th>\n",
              "      <td>D8nEhsIOBSoE6VthTaqDX8U6lqjJ7dLdr72mOyLya2A=</td>\n",
              "      <td>1</td>\n",
              "      <td>0</td>\n",
              "      <td>NaN</td>\n",
              "      <td>4</td>\n",
              "      <td>20160411</td>\n",
              "      <td>20170712</td>\n",
              "    </tr>\n",
              "    <tr>\n",
              "      <th>3</th>\n",
              "      <td>mCuD+tZ1hERA/o5GPqk38e041J8ZsBaLcu7nGoIIvhI=</td>\n",
              "      <td>1</td>\n",
              "      <td>0</td>\n",
              "      <td>NaN</td>\n",
              "      <td>9</td>\n",
              "      <td>20150906</td>\n",
              "      <td>20150907</td>\n",
              "    </tr>\n",
              "    <tr>\n",
              "      <th>4</th>\n",
              "      <td>q4HRBfVSssAFS9iRfxWrohxuk9kCYMKjHOEagUMV6rQ=</td>\n",
              "      <td>1</td>\n",
              "      <td>0</td>\n",
              "      <td>NaN</td>\n",
              "      <td>4</td>\n",
              "      <td>20170126</td>\n",
              "      <td>20170613</td>\n",
              "    </tr>\n",
              "  </tbody>\n",
              "</table>\n",
              "</div>\n",
              "      <button class=\"colab-df-convert\" onclick=\"convertToInteractive('df-4a7ded98-3308-4988-8afd-a58368a8cc15')\"\n",
              "              title=\"Convert this dataframe to an interactive table.\"\n",
              "              style=\"display:none;\">\n",
              "        \n",
              "  <svg xmlns=\"http://www.w3.org/2000/svg\" height=\"24px\"viewBox=\"0 0 24 24\"\n",
              "       width=\"24px\">\n",
              "    <path d=\"M0 0h24v24H0V0z\" fill=\"none\"/>\n",
              "    <path d=\"M18.56 5.44l.94 2.06.94-2.06 2.06-.94-2.06-.94-.94-2.06-.94 2.06-2.06.94zm-11 1L8.5 8.5l.94-2.06 2.06-.94-2.06-.94L8.5 2.5l-.94 2.06-2.06.94zm10 10l.94 2.06.94-2.06 2.06-.94-2.06-.94-.94-2.06-.94 2.06-2.06.94z\"/><path d=\"M17.41 7.96l-1.37-1.37c-.4-.4-.92-.59-1.43-.59-.52 0-1.04.2-1.43.59L10.3 9.45l-7.72 7.72c-.78.78-.78 2.05 0 2.83L4 21.41c.39.39.9.59 1.41.59.51 0 1.02-.2 1.41-.59l7.78-7.78 2.81-2.81c.8-.78.8-2.07 0-2.86zM5.41 20L4 18.59l7.72-7.72 1.47 1.35L5.41 20z\"/>\n",
              "  </svg>\n",
              "      </button>\n",
              "      \n",
              "  <style>\n",
              "    .colab-df-container {\n",
              "      display:flex;\n",
              "      flex-wrap:wrap;\n",
              "      gap: 12px;\n",
              "    }\n",
              "\n",
              "    .colab-df-convert {\n",
              "      background-color: #E8F0FE;\n",
              "      border: none;\n",
              "      border-radius: 50%;\n",
              "      cursor: pointer;\n",
              "      display: none;\n",
              "      fill: #1967D2;\n",
              "      height: 32px;\n",
              "      padding: 0 0 0 0;\n",
              "      width: 32px;\n",
              "    }\n",
              "\n",
              "    .colab-df-convert:hover {\n",
              "      background-color: #E2EBFA;\n",
              "      box-shadow: 0px 1px 2px rgba(60, 64, 67, 0.3), 0px 1px 3px 1px rgba(60, 64, 67, 0.15);\n",
              "      fill: #174EA6;\n",
              "    }\n",
              "\n",
              "    [theme=dark] .colab-df-convert {\n",
              "      background-color: #3B4455;\n",
              "      fill: #D2E3FC;\n",
              "    }\n",
              "\n",
              "    [theme=dark] .colab-df-convert:hover {\n",
              "      background-color: #434B5C;\n",
              "      box-shadow: 0px 1px 3px 1px rgba(0, 0, 0, 0.15);\n",
              "      filter: drop-shadow(0px 1px 2px rgba(0, 0, 0, 0.3));\n",
              "      fill: #FFFFFF;\n",
              "    }\n",
              "  </style>\n",
              "\n",
              "      <script>\n",
              "        const buttonEl =\n",
              "          document.querySelector('#df-4a7ded98-3308-4988-8afd-a58368a8cc15 button.colab-df-convert');\n",
              "        buttonEl.style.display =\n",
              "          google.colab.kernel.accessAllowed ? 'block' : 'none';\n",
              "\n",
              "        async function convertToInteractive(key) {\n",
              "          const element = document.querySelector('#df-4a7ded98-3308-4988-8afd-a58368a8cc15');\n",
              "          const dataTable =\n",
              "            await google.colab.kernel.invokeFunction('convertToInteractive',\n",
              "                                                     [key], {});\n",
              "          if (!dataTable) return;\n",
              "\n",
              "          const docLinkHtml = 'Like what you see? Visit the ' +\n",
              "            '<a target=\"_blank\" href=https://colab.research.google.com/notebooks/data_table.ipynb>data table notebook</a>'\n",
              "            + ' to learn more about interactive tables.';\n",
              "          element.innerHTML = '';\n",
              "          dataTable['output_type'] = 'display_data';\n",
              "          await google.colab.output.renderOutput(dataTable, element);\n",
              "          const docLink = document.createElement('div');\n",
              "          docLink.innerHTML = docLinkHtml;\n",
              "          element.appendChild(docLink);\n",
              "        }\n",
              "      </script>\n",
              "    </div>\n",
              "  </div>\n",
              "  "
            ]
          },
          "metadata": {},
          "execution_count": 6
        }
      ]
    },
    {
      "cell_type": "code",
      "source": [
        "#check the basic info of data\n",
        "train.info()\n",
        "songs.info()\n",
        "members.info()"
      ],
      "metadata": {
        "id": "EpmFxi-xBuSz",
        "colab": {
          "base_uri": "https://localhost:8080/"
        },
        "outputId": "24f23301-e4f5-430a-bf36-6dd80bfdd07c"
      },
      "execution_count": 7,
      "outputs": [
        {
          "output_type": "stream",
          "name": "stdout",
          "text": [
            "<class 'pandas.core.frame.DataFrame'>\n",
            "RangeIndex: 70272 entries, 0 to 70271\n",
            "Data columns (total 6 columns):\n",
            " #   Column              Non-Null Count  Dtype  \n",
            "---  ------              --------------  -----  \n",
            " 0   msno                70272 non-null  object \n",
            " 1   song_id             70271 non-null  object \n",
            " 2   source_system_tab   70064 non-null  object \n",
            " 3   source_screen_name  67656 non-null  object \n",
            " 4   source_type         70148 non-null  object \n",
            " 5   target              70271 non-null  float64\n",
            "dtypes: float64(1), object(5)\n",
            "memory usage: 3.2+ MB\n",
            "<class 'pandas.core.frame.DataFrame'>\n",
            "RangeIndex: 95127 entries, 0 to 95126\n",
            "Data columns (total 7 columns):\n",
            " #   Column       Non-Null Count  Dtype  \n",
            "---  ------       --------------  -----  \n",
            " 0   song_id      95127 non-null  object \n",
            " 1   song_length  95126 non-null  float64\n",
            " 2   genre_ids    93307 non-null  object \n",
            " 3   artist_name  95126 non-null  object \n",
            " 4   composer     55146 non-null  object \n",
            " 5   lyricist     25890 non-null  object \n",
            " 6   language     95126 non-null  float64\n",
            "dtypes: float64(2), object(5)\n",
            "memory usage: 5.1+ MB\n",
            "<class 'pandas.core.frame.DataFrame'>\n",
            "RangeIndex: 34403 entries, 0 to 34402\n",
            "Data columns (total 7 columns):\n",
            " #   Column                  Non-Null Count  Dtype \n",
            "---  ------                  --------------  ----- \n",
            " 0   msno                    34403 non-null  object\n",
            " 1   city                    34403 non-null  int64 \n",
            " 2   bd                      34403 non-null  int64 \n",
            " 3   gender                  14501 non-null  object\n",
            " 4   registered_via          34403 non-null  int64 \n",
            " 5   registration_init_time  34403 non-null  int64 \n",
            " 6   expiration_date         34403 non-null  int64 \n",
            "dtypes: int64(5), object(2)\n",
            "memory usage: 1.8+ MB\n"
          ]
        }
      ]
    },
    {
      "cell_type": "code",
      "source": [
        "train.describe()"
      ],
      "metadata": {
        "id": "eWP0Jt0EB6lc",
        "colab": {
          "base_uri": "https://localhost:8080/",
          "height": 300
        },
        "outputId": "ab787208-43af-45dc-d8de-01c7fb8427bd"
      },
      "execution_count": 8,
      "outputs": [
        {
          "output_type": "execute_result",
          "data": {
            "text/plain": [
              "             target\n",
              "count  70271.000000\n",
              "mean       0.756514\n",
              "std        0.429189\n",
              "min        0.000000\n",
              "25%        1.000000\n",
              "50%        1.000000\n",
              "75%        1.000000\n",
              "max        1.000000"
            ],
            "text/html": [
              "\n",
              "  <div id=\"df-3c90f77a-db68-4ecd-9e9d-7df3c76744b7\">\n",
              "    <div class=\"colab-df-container\">\n",
              "      <div>\n",
              "<style scoped>\n",
              "    .dataframe tbody tr th:only-of-type {\n",
              "        vertical-align: middle;\n",
              "    }\n",
              "\n",
              "    .dataframe tbody tr th {\n",
              "        vertical-align: top;\n",
              "    }\n",
              "\n",
              "    .dataframe thead th {\n",
              "        text-align: right;\n",
              "    }\n",
              "</style>\n",
              "<table border=\"1\" class=\"dataframe\">\n",
              "  <thead>\n",
              "    <tr style=\"text-align: right;\">\n",
              "      <th></th>\n",
              "      <th>target</th>\n",
              "    </tr>\n",
              "  </thead>\n",
              "  <tbody>\n",
              "    <tr>\n",
              "      <th>count</th>\n",
              "      <td>70271.000000</td>\n",
              "    </tr>\n",
              "    <tr>\n",
              "      <th>mean</th>\n",
              "      <td>0.756514</td>\n",
              "    </tr>\n",
              "    <tr>\n",
              "      <th>std</th>\n",
              "      <td>0.429189</td>\n",
              "    </tr>\n",
              "    <tr>\n",
              "      <th>min</th>\n",
              "      <td>0.000000</td>\n",
              "    </tr>\n",
              "    <tr>\n",
              "      <th>25%</th>\n",
              "      <td>1.000000</td>\n",
              "    </tr>\n",
              "    <tr>\n",
              "      <th>50%</th>\n",
              "      <td>1.000000</td>\n",
              "    </tr>\n",
              "    <tr>\n",
              "      <th>75%</th>\n",
              "      <td>1.000000</td>\n",
              "    </tr>\n",
              "    <tr>\n",
              "      <th>max</th>\n",
              "      <td>1.000000</td>\n",
              "    </tr>\n",
              "  </tbody>\n",
              "</table>\n",
              "</div>\n",
              "      <button class=\"colab-df-convert\" onclick=\"convertToInteractive('df-3c90f77a-db68-4ecd-9e9d-7df3c76744b7')\"\n",
              "              title=\"Convert this dataframe to an interactive table.\"\n",
              "              style=\"display:none;\">\n",
              "        \n",
              "  <svg xmlns=\"http://www.w3.org/2000/svg\" height=\"24px\"viewBox=\"0 0 24 24\"\n",
              "       width=\"24px\">\n",
              "    <path d=\"M0 0h24v24H0V0z\" fill=\"none\"/>\n",
              "    <path d=\"M18.56 5.44l.94 2.06.94-2.06 2.06-.94-2.06-.94-.94-2.06-.94 2.06-2.06.94zm-11 1L8.5 8.5l.94-2.06 2.06-.94-2.06-.94L8.5 2.5l-.94 2.06-2.06.94zm10 10l.94 2.06.94-2.06 2.06-.94-2.06-.94-.94-2.06-.94 2.06-2.06.94z\"/><path d=\"M17.41 7.96l-1.37-1.37c-.4-.4-.92-.59-1.43-.59-.52 0-1.04.2-1.43.59L10.3 9.45l-7.72 7.72c-.78.78-.78 2.05 0 2.83L4 21.41c.39.39.9.59 1.41.59.51 0 1.02-.2 1.41-.59l7.78-7.78 2.81-2.81c.8-.78.8-2.07 0-2.86zM5.41 20L4 18.59l7.72-7.72 1.47 1.35L5.41 20z\"/>\n",
              "  </svg>\n",
              "      </button>\n",
              "      \n",
              "  <style>\n",
              "    .colab-df-container {\n",
              "      display:flex;\n",
              "      flex-wrap:wrap;\n",
              "      gap: 12px;\n",
              "    }\n",
              "\n",
              "    .colab-df-convert {\n",
              "      background-color: #E8F0FE;\n",
              "      border: none;\n",
              "      border-radius: 50%;\n",
              "      cursor: pointer;\n",
              "      display: none;\n",
              "      fill: #1967D2;\n",
              "      height: 32px;\n",
              "      padding: 0 0 0 0;\n",
              "      width: 32px;\n",
              "    }\n",
              "\n",
              "    .colab-df-convert:hover {\n",
              "      background-color: #E2EBFA;\n",
              "      box-shadow: 0px 1px 2px rgba(60, 64, 67, 0.3), 0px 1px 3px 1px rgba(60, 64, 67, 0.15);\n",
              "      fill: #174EA6;\n",
              "    }\n",
              "\n",
              "    [theme=dark] .colab-df-convert {\n",
              "      background-color: #3B4455;\n",
              "      fill: #D2E3FC;\n",
              "    }\n",
              "\n",
              "    [theme=dark] .colab-df-convert:hover {\n",
              "      background-color: #434B5C;\n",
              "      box-shadow: 0px 1px 3px 1px rgba(0, 0, 0, 0.15);\n",
              "      filter: drop-shadow(0px 1px 2px rgba(0, 0, 0, 0.3));\n",
              "      fill: #FFFFFF;\n",
              "    }\n",
              "  </style>\n",
              "\n",
              "      <script>\n",
              "        const buttonEl =\n",
              "          document.querySelector('#df-3c90f77a-db68-4ecd-9e9d-7df3c76744b7 button.colab-df-convert');\n",
              "        buttonEl.style.display =\n",
              "          google.colab.kernel.accessAllowed ? 'block' : 'none';\n",
              "\n",
              "        async function convertToInteractive(key) {\n",
              "          const element = document.querySelector('#df-3c90f77a-db68-4ecd-9e9d-7df3c76744b7');\n",
              "          const dataTable =\n",
              "            await google.colab.kernel.invokeFunction('convertToInteractive',\n",
              "                                                     [key], {});\n",
              "          if (!dataTable) return;\n",
              "\n",
              "          const docLinkHtml = 'Like what you see? Visit the ' +\n",
              "            '<a target=\"_blank\" href=https://colab.research.google.com/notebooks/data_table.ipynb>data table notebook</a>'\n",
              "            + ' to learn more about interactive tables.';\n",
              "          element.innerHTML = '';\n",
              "          dataTable['output_type'] = 'display_data';\n",
              "          await google.colab.output.renderOutput(dataTable, element);\n",
              "          const docLink = document.createElement('div');\n",
              "          docLink.innerHTML = docLinkHtml;\n",
              "          element.appendChild(docLink);\n",
              "        }\n",
              "      </script>\n",
              "    </div>\n",
              "  </div>\n",
              "  "
            ]
          },
          "metadata": {},
          "execution_count": 8
        }
      ]
    },
    {
      "cell_type": "code",
      "source": [
        "songs.describe()"
      ],
      "metadata": {
        "id": "FmcojSqFCJrq",
        "colab": {
          "base_uri": "https://localhost:8080/",
          "height": 300
        },
        "outputId": "a9f35f3c-2b72-4f4a-d727-6f88dff601e0"
      },
      "execution_count": 9,
      "outputs": [
        {
          "output_type": "execute_result",
          "data": {
            "text/plain": [
              "        song_length      language\n",
              "count  9.512600e+04  95126.000000\n",
              "mean   2.465140e+05     26.338992\n",
              "std    1.294285e+05     23.324270\n",
              "min    1.253000e+03     -1.000000\n",
              "25%    1.995538e+05      3.000000\n",
              "50%    2.337790e+05     24.000000\n",
              "75%    2.731590e+05     52.000000\n",
              "max    6.448901e+06     59.000000"
            ],
            "text/html": [
              "\n",
              "  <div id=\"df-22b51bf4-fca6-4760-929b-1e2793396f3e\">\n",
              "    <div class=\"colab-df-container\">\n",
              "      <div>\n",
              "<style scoped>\n",
              "    .dataframe tbody tr th:only-of-type {\n",
              "        vertical-align: middle;\n",
              "    }\n",
              "\n",
              "    .dataframe tbody tr th {\n",
              "        vertical-align: top;\n",
              "    }\n",
              "\n",
              "    .dataframe thead th {\n",
              "        text-align: right;\n",
              "    }\n",
              "</style>\n",
              "<table border=\"1\" class=\"dataframe\">\n",
              "  <thead>\n",
              "    <tr style=\"text-align: right;\">\n",
              "      <th></th>\n",
              "      <th>song_length</th>\n",
              "      <th>language</th>\n",
              "    </tr>\n",
              "  </thead>\n",
              "  <tbody>\n",
              "    <tr>\n",
              "      <th>count</th>\n",
              "      <td>9.512600e+04</td>\n",
              "      <td>95126.000000</td>\n",
              "    </tr>\n",
              "    <tr>\n",
              "      <th>mean</th>\n",
              "      <td>2.465140e+05</td>\n",
              "      <td>26.338992</td>\n",
              "    </tr>\n",
              "    <tr>\n",
              "      <th>std</th>\n",
              "      <td>1.294285e+05</td>\n",
              "      <td>23.324270</td>\n",
              "    </tr>\n",
              "    <tr>\n",
              "      <th>min</th>\n",
              "      <td>1.253000e+03</td>\n",
              "      <td>-1.000000</td>\n",
              "    </tr>\n",
              "    <tr>\n",
              "      <th>25%</th>\n",
              "      <td>1.995538e+05</td>\n",
              "      <td>3.000000</td>\n",
              "    </tr>\n",
              "    <tr>\n",
              "      <th>50%</th>\n",
              "      <td>2.337790e+05</td>\n",
              "      <td>24.000000</td>\n",
              "    </tr>\n",
              "    <tr>\n",
              "      <th>75%</th>\n",
              "      <td>2.731590e+05</td>\n",
              "      <td>52.000000</td>\n",
              "    </tr>\n",
              "    <tr>\n",
              "      <th>max</th>\n",
              "      <td>6.448901e+06</td>\n",
              "      <td>59.000000</td>\n",
              "    </tr>\n",
              "  </tbody>\n",
              "</table>\n",
              "</div>\n",
              "      <button class=\"colab-df-convert\" onclick=\"convertToInteractive('df-22b51bf4-fca6-4760-929b-1e2793396f3e')\"\n",
              "              title=\"Convert this dataframe to an interactive table.\"\n",
              "              style=\"display:none;\">\n",
              "        \n",
              "  <svg xmlns=\"http://www.w3.org/2000/svg\" height=\"24px\"viewBox=\"0 0 24 24\"\n",
              "       width=\"24px\">\n",
              "    <path d=\"M0 0h24v24H0V0z\" fill=\"none\"/>\n",
              "    <path d=\"M18.56 5.44l.94 2.06.94-2.06 2.06-.94-2.06-.94-.94-2.06-.94 2.06-2.06.94zm-11 1L8.5 8.5l.94-2.06 2.06-.94-2.06-.94L8.5 2.5l-.94 2.06-2.06.94zm10 10l.94 2.06.94-2.06 2.06-.94-2.06-.94-.94-2.06-.94 2.06-2.06.94z\"/><path d=\"M17.41 7.96l-1.37-1.37c-.4-.4-.92-.59-1.43-.59-.52 0-1.04.2-1.43.59L10.3 9.45l-7.72 7.72c-.78.78-.78 2.05 0 2.83L4 21.41c.39.39.9.59 1.41.59.51 0 1.02-.2 1.41-.59l7.78-7.78 2.81-2.81c.8-.78.8-2.07 0-2.86zM5.41 20L4 18.59l7.72-7.72 1.47 1.35L5.41 20z\"/>\n",
              "  </svg>\n",
              "      </button>\n",
              "      \n",
              "  <style>\n",
              "    .colab-df-container {\n",
              "      display:flex;\n",
              "      flex-wrap:wrap;\n",
              "      gap: 12px;\n",
              "    }\n",
              "\n",
              "    .colab-df-convert {\n",
              "      background-color: #E8F0FE;\n",
              "      border: none;\n",
              "      border-radius: 50%;\n",
              "      cursor: pointer;\n",
              "      display: none;\n",
              "      fill: #1967D2;\n",
              "      height: 32px;\n",
              "      padding: 0 0 0 0;\n",
              "      width: 32px;\n",
              "    }\n",
              "\n",
              "    .colab-df-convert:hover {\n",
              "      background-color: #E2EBFA;\n",
              "      box-shadow: 0px 1px 2px rgba(60, 64, 67, 0.3), 0px 1px 3px 1px rgba(60, 64, 67, 0.15);\n",
              "      fill: #174EA6;\n",
              "    }\n",
              "\n",
              "    [theme=dark] .colab-df-convert {\n",
              "      background-color: #3B4455;\n",
              "      fill: #D2E3FC;\n",
              "    }\n",
              "\n",
              "    [theme=dark] .colab-df-convert:hover {\n",
              "      background-color: #434B5C;\n",
              "      box-shadow: 0px 1px 3px 1px rgba(0, 0, 0, 0.15);\n",
              "      filter: drop-shadow(0px 1px 2px rgba(0, 0, 0, 0.3));\n",
              "      fill: #FFFFFF;\n",
              "    }\n",
              "  </style>\n",
              "\n",
              "      <script>\n",
              "        const buttonEl =\n",
              "          document.querySelector('#df-22b51bf4-fca6-4760-929b-1e2793396f3e button.colab-df-convert');\n",
              "        buttonEl.style.display =\n",
              "          google.colab.kernel.accessAllowed ? 'block' : 'none';\n",
              "\n",
              "        async function convertToInteractive(key) {\n",
              "          const element = document.querySelector('#df-22b51bf4-fca6-4760-929b-1e2793396f3e');\n",
              "          const dataTable =\n",
              "            await google.colab.kernel.invokeFunction('convertToInteractive',\n",
              "                                                     [key], {});\n",
              "          if (!dataTable) return;\n",
              "\n",
              "          const docLinkHtml = 'Like what you see? Visit the ' +\n",
              "            '<a target=\"_blank\" href=https://colab.research.google.com/notebooks/data_table.ipynb>data table notebook</a>'\n",
              "            + ' to learn more about interactive tables.';\n",
              "          element.innerHTML = '';\n",
              "          dataTable['output_type'] = 'display_data';\n",
              "          await google.colab.output.renderOutput(dataTable, element);\n",
              "          const docLink = document.createElement('div');\n",
              "          docLink.innerHTML = docLinkHtml;\n",
              "          element.appendChild(docLink);\n",
              "        }\n",
              "      </script>\n",
              "    </div>\n",
              "  </div>\n",
              "  "
            ]
          },
          "metadata": {},
          "execution_count": 9
        }
      ]
    },
    {
      "cell_type": "code",
      "source": [
        "members.describe()"
      ],
      "metadata": {
        "id": "2AW4YM15CA7O",
        "colab": {
          "base_uri": "https://localhost:8080/",
          "height": 300
        },
        "outputId": "728c8b28-f5a7-42d7-a431-c529c0edb650"
      },
      "execution_count": 10,
      "outputs": [
        {
          "output_type": "execute_result",
          "data": {
            "text/plain": [
              "               city            bd  registered_via  registration_init_time  \\\n",
              "count  34403.000000  34403.000000    34403.000000            3.440300e+04   \n",
              "mean       5.371276     12.280935        5.953376            2.013994e+07   \n",
              "std        6.243929     18.170251        2.287534            2.954015e+04   \n",
              "min        1.000000    -43.000000        3.000000            2.004033e+07   \n",
              "25%        1.000000      0.000000        4.000000            2.012103e+07   \n",
              "50%        1.000000      0.000000        7.000000            2.015090e+07   \n",
              "75%       10.000000     25.000000        9.000000            2.016110e+07   \n",
              "max       22.000000   1051.000000       16.000000            2.017023e+07   \n",
              "\n",
              "       expiration_date  \n",
              "count     3.440300e+04  \n",
              "mean      2.016901e+07  \n",
              "std       7.320925e+03  \n",
              "min       1.970010e+07  \n",
              "25%       2.017020e+07  \n",
              "50%       2.017091e+07  \n",
              "75%       2.017093e+07  \n",
              "max       2.020102e+07  "
            ],
            "text/html": [
              "\n",
              "  <div id=\"df-0182d87a-7591-4ad1-9be6-fa18b0521fb1\">\n",
              "    <div class=\"colab-df-container\">\n",
              "      <div>\n",
              "<style scoped>\n",
              "    .dataframe tbody tr th:only-of-type {\n",
              "        vertical-align: middle;\n",
              "    }\n",
              "\n",
              "    .dataframe tbody tr th {\n",
              "        vertical-align: top;\n",
              "    }\n",
              "\n",
              "    .dataframe thead th {\n",
              "        text-align: right;\n",
              "    }\n",
              "</style>\n",
              "<table border=\"1\" class=\"dataframe\">\n",
              "  <thead>\n",
              "    <tr style=\"text-align: right;\">\n",
              "      <th></th>\n",
              "      <th>city</th>\n",
              "      <th>bd</th>\n",
              "      <th>registered_via</th>\n",
              "      <th>registration_init_time</th>\n",
              "      <th>expiration_date</th>\n",
              "    </tr>\n",
              "  </thead>\n",
              "  <tbody>\n",
              "    <tr>\n",
              "      <th>count</th>\n",
              "      <td>34403.000000</td>\n",
              "      <td>34403.000000</td>\n",
              "      <td>34403.000000</td>\n",
              "      <td>3.440300e+04</td>\n",
              "      <td>3.440300e+04</td>\n",
              "    </tr>\n",
              "    <tr>\n",
              "      <th>mean</th>\n",
              "      <td>5.371276</td>\n",
              "      <td>12.280935</td>\n",
              "      <td>5.953376</td>\n",
              "      <td>2.013994e+07</td>\n",
              "      <td>2.016901e+07</td>\n",
              "    </tr>\n",
              "    <tr>\n",
              "      <th>std</th>\n",
              "      <td>6.243929</td>\n",
              "      <td>18.170251</td>\n",
              "      <td>2.287534</td>\n",
              "      <td>2.954015e+04</td>\n",
              "      <td>7.320925e+03</td>\n",
              "    </tr>\n",
              "    <tr>\n",
              "      <th>min</th>\n",
              "      <td>1.000000</td>\n",
              "      <td>-43.000000</td>\n",
              "      <td>3.000000</td>\n",
              "      <td>2.004033e+07</td>\n",
              "      <td>1.970010e+07</td>\n",
              "    </tr>\n",
              "    <tr>\n",
              "      <th>25%</th>\n",
              "      <td>1.000000</td>\n",
              "      <td>0.000000</td>\n",
              "      <td>4.000000</td>\n",
              "      <td>2.012103e+07</td>\n",
              "      <td>2.017020e+07</td>\n",
              "    </tr>\n",
              "    <tr>\n",
              "      <th>50%</th>\n",
              "      <td>1.000000</td>\n",
              "      <td>0.000000</td>\n",
              "      <td>7.000000</td>\n",
              "      <td>2.015090e+07</td>\n",
              "      <td>2.017091e+07</td>\n",
              "    </tr>\n",
              "    <tr>\n",
              "      <th>75%</th>\n",
              "      <td>10.000000</td>\n",
              "      <td>25.000000</td>\n",
              "      <td>9.000000</td>\n",
              "      <td>2.016110e+07</td>\n",
              "      <td>2.017093e+07</td>\n",
              "    </tr>\n",
              "    <tr>\n",
              "      <th>max</th>\n",
              "      <td>22.000000</td>\n",
              "      <td>1051.000000</td>\n",
              "      <td>16.000000</td>\n",
              "      <td>2.017023e+07</td>\n",
              "      <td>2.020102e+07</td>\n",
              "    </tr>\n",
              "  </tbody>\n",
              "</table>\n",
              "</div>\n",
              "      <button class=\"colab-df-convert\" onclick=\"convertToInteractive('df-0182d87a-7591-4ad1-9be6-fa18b0521fb1')\"\n",
              "              title=\"Convert this dataframe to an interactive table.\"\n",
              "              style=\"display:none;\">\n",
              "        \n",
              "  <svg xmlns=\"http://www.w3.org/2000/svg\" height=\"24px\"viewBox=\"0 0 24 24\"\n",
              "       width=\"24px\">\n",
              "    <path d=\"M0 0h24v24H0V0z\" fill=\"none\"/>\n",
              "    <path d=\"M18.56 5.44l.94 2.06.94-2.06 2.06-.94-2.06-.94-.94-2.06-.94 2.06-2.06.94zm-11 1L8.5 8.5l.94-2.06 2.06-.94-2.06-.94L8.5 2.5l-.94 2.06-2.06.94zm10 10l.94 2.06.94-2.06 2.06-.94-2.06-.94-.94-2.06-.94 2.06-2.06.94z\"/><path d=\"M17.41 7.96l-1.37-1.37c-.4-.4-.92-.59-1.43-.59-.52 0-1.04.2-1.43.59L10.3 9.45l-7.72 7.72c-.78.78-.78 2.05 0 2.83L4 21.41c.39.39.9.59 1.41.59.51 0 1.02-.2 1.41-.59l7.78-7.78 2.81-2.81c.8-.78.8-2.07 0-2.86zM5.41 20L4 18.59l7.72-7.72 1.47 1.35L5.41 20z\"/>\n",
              "  </svg>\n",
              "      </button>\n",
              "      \n",
              "  <style>\n",
              "    .colab-df-container {\n",
              "      display:flex;\n",
              "      flex-wrap:wrap;\n",
              "      gap: 12px;\n",
              "    }\n",
              "\n",
              "    .colab-df-convert {\n",
              "      background-color: #E8F0FE;\n",
              "      border: none;\n",
              "      border-radius: 50%;\n",
              "      cursor: pointer;\n",
              "      display: none;\n",
              "      fill: #1967D2;\n",
              "      height: 32px;\n",
              "      padding: 0 0 0 0;\n",
              "      width: 32px;\n",
              "    }\n",
              "\n",
              "    .colab-df-convert:hover {\n",
              "      background-color: #E2EBFA;\n",
              "      box-shadow: 0px 1px 2px rgba(60, 64, 67, 0.3), 0px 1px 3px 1px rgba(60, 64, 67, 0.15);\n",
              "      fill: #174EA6;\n",
              "    }\n",
              "\n",
              "    [theme=dark] .colab-df-convert {\n",
              "      background-color: #3B4455;\n",
              "      fill: #D2E3FC;\n",
              "    }\n",
              "\n",
              "    [theme=dark] .colab-df-convert:hover {\n",
              "      background-color: #434B5C;\n",
              "      box-shadow: 0px 1px 3px 1px rgba(0, 0, 0, 0.15);\n",
              "      filter: drop-shadow(0px 1px 2px rgba(0, 0, 0, 0.3));\n",
              "      fill: #FFFFFF;\n",
              "    }\n",
              "  </style>\n",
              "\n",
              "      <script>\n",
              "        const buttonEl =\n",
              "          document.querySelector('#df-0182d87a-7591-4ad1-9be6-fa18b0521fb1 button.colab-df-convert');\n",
              "        buttonEl.style.display =\n",
              "          google.colab.kernel.accessAllowed ? 'block' : 'none';\n",
              "\n",
              "        async function convertToInteractive(key) {\n",
              "          const element = document.querySelector('#df-0182d87a-7591-4ad1-9be6-fa18b0521fb1');\n",
              "          const dataTable =\n",
              "            await google.colab.kernel.invokeFunction('convertToInteractive',\n",
              "                                                     [key], {});\n",
              "          if (!dataTable) return;\n",
              "\n",
              "          const docLinkHtml = 'Like what you see? Visit the ' +\n",
              "            '<a target=\"_blank\" href=https://colab.research.google.com/notebooks/data_table.ipynb>data table notebook</a>'\n",
              "            + ' to learn more about interactive tables.';\n",
              "          element.innerHTML = '';\n",
              "          dataTable['output_type'] = 'display_data';\n",
              "          await google.colab.output.renderOutput(dataTable, element);\n",
              "          const docLink = document.createElement('div');\n",
              "          docLink.innerHTML = docLinkHtml;\n",
              "          element.appendChild(docLink);\n",
              "        }\n",
              "      </script>\n",
              "    </div>\n",
              "  </div>\n",
              "  "
            ]
          },
          "metadata": {},
          "execution_count": 10
        }
      ]
    },
    {
      "cell_type": "code",
      "source": [
        "train.shape"
      ],
      "metadata": {
        "id": "KwjoWZ5FCDX5",
        "colab": {
          "base_uri": "https://localhost:8080/"
        },
        "outputId": "7ee4bef9-5940-4b19-dfac-1229aaa8bf7e"
      },
      "execution_count": 11,
      "outputs": [
        {
          "output_type": "execute_result",
          "data": {
            "text/plain": [
              "(70272, 6)"
            ]
          },
          "metadata": {},
          "execution_count": 11
        }
      ]
    },
    {
      "cell_type": "code",
      "source": [
        "songs.shape"
      ],
      "metadata": {
        "id": "KPKyPxo-CXE4",
        "colab": {
          "base_uri": "https://localhost:8080/"
        },
        "outputId": "53a2fe57-eb31-4880-a416-d79a63cfb871"
      },
      "execution_count": 12,
      "outputs": [
        {
          "output_type": "execute_result",
          "data": {
            "text/plain": [
              "(95127, 7)"
            ]
          },
          "metadata": {},
          "execution_count": 12
        }
      ]
    },
    {
      "cell_type": "code",
      "source": [
        "members.shape"
      ],
      "metadata": {
        "id": "ltguPtr_CY58",
        "colab": {
          "base_uri": "https://localhost:8080/"
        },
        "outputId": "257993eb-a866-4e0d-892d-e879f6fc4a31"
      },
      "execution_count": 13,
      "outputs": [
        {
          "output_type": "execute_result",
          "data": {
            "text/plain": [
              "(34403, 7)"
            ]
          },
          "metadata": {},
          "execution_count": 13
        }
      ]
    },
    {
      "cell_type": "markdown",
      "source": [
        "**Data Visualization**"
      ],
      "metadata": {
        "id": "_B8GEKIyCbZa"
      }
    },
    {
      "cell_type": "code",
      "source": [
        "plt.figure(figsize=(20,10))\n",
        "sns.countplot(x='source_system_tab', hue='source_system_tab', data=train)"
      ],
      "metadata": {
        "id": "lUTioWXcCgYi",
        "colab": {
          "base_uri": "https://localhost:8080/",
          "height": 623
        },
        "outputId": "8e8c728d-4301-4837-8ae5-c283cb1fd5f1"
      },
      "execution_count": 14,
      "outputs": [
        {
          "output_type": "execute_result",
          "data": {
            "text/plain": [
              "<matplotlib.axes._subplots.AxesSubplot at 0x7f56c75abc90>"
            ]
          },
          "metadata": {},
          "execution_count": 14
        },
        {
          "output_type": "display_data",
          "data": {
            "text/plain": [
              "<Figure size 1440x720 with 1 Axes>"
            ],
            "image/png": "[encoded data removed]"
          },
          "metadata": {
            "needs_background": "light"
          }
        }
      ]
    },
    {
      "cell_type": "code",
      "source": [
        "plt.figure(figsize=(20,10))\n",
        "sns.countplot(x='source_system_tab', hue='target', data=train)"
      ],
      "metadata": {
        "id": "OwUKYTKYC3aX",
        "colab": {
          "base_uri": "https://localhost:8080/",
          "height": 623
        },
        "outputId": "ff2b7fb3-8338-4488-8d6b-d610789b5837"
      },
      "execution_count": 15,
      "outputs": [
        {
          "output_type": "execute_result",
          "data": {
            "text/plain": [
              "<matplotlib.axes._subplots.AxesSubplot at 0x7f56b58dcd10>"
            ]
          },
          "metadata": {},
          "execution_count": 15
        },
        {
          "output_type": "display_data",
          "data": {
            "text/plain": [
              "<Figure size 1440x720 with 1 Axes>"
            ],
            "image/png": "[encoded data removed]"
          },
          "metadata": {
            "needs_background": "light"
          }
        }
      ]
    },
    {
      "cell_type": "code",
      "source": [
        "plt.figure(figsize=(20,10))\n",
        "plt.xticks(rotation=90)\n",
        "sns.countplot(x='source_screen_name', hue='target', data=train)"
      ],
      "metadata": {
        "id": "4QSiaGpGDacQ",
        "colab": {
          "base_uri": "https://localhost:8080/",
          "height": 713
        },
        "outputId": "cf62e09a-04df-46f8-e1da-2c24b2dd0d0b"
      },
      "execution_count": 16,
      "outputs": [
        {
          "output_type": "execute_result",
          "data": {
            "text/plain": [
              "<matplotlib.axes._subplots.AxesSubplot at 0x7f56b35f1a90>"
            ]
          },
          "metadata": {},
          "execution_count": 16
        },
        {
          "output_type": "display_data",
          "data": {
            "text/plain": [
              "<Figure size 1440x720 with 1 Axes>"
            ],
            "image/png": "[encoded data removed]"
          },
          "metadata": {
            "needs_background": "light"
          }
        }
      ]
    },
    {
      "cell_type": "code",
      "source": [
        "plt.figure(figsize=(20,10))\n",
        "plt.xticks(rotation=90)\n",
        "sns.countplot(x='source_type', hue='source_type', data=train)"
      ],
      "metadata": {
        "id": "oMfB052AEkLV",
        "colab": {
          "base_uri": "https://localhost:8080/",
          "height": 712
        },
        "outputId": "e2092c44-d7a0-4d53-a658-33c3d1416ede"
      },
      "execution_count": 17,
      "outputs": [
        {
          "output_type": "execute_result",
          "data": {
            "text/plain": [
              "<matplotlib.axes._subplots.AxesSubplot at 0x7f56b35001d0>"
            ]
          },
          "metadata": {},
          "execution_count": 17
        },
        {
          "output_type": "display_data",
          "data": {
            "text/plain": [
              "<Figure size 1440x720 with 1 Axes>"
            ],
            "image/png": "[encoded data removed]"
          },
          "metadata": {
            "needs_background": "light"
          }
        }
      ]
    },
    {
      "cell_type": "code",
      "source": [
        "plt.figure(figsize=(20,10))\n",
        "plt.xticks(rotation=90)\n",
        "sns.countplot(x='source_type', hue='target', data=train)"
      ],
      "metadata": {
        "colab": {
          "base_uri": "https://localhost:8080/",
          "height": 712
        },
        "id": "-GGm5P1vFy4Z",
        "outputId": "379c66e4-9a59-4e29-86d4-63db410ac86c"
      },
      "execution_count": 18,
      "outputs": [
        {
          "output_type": "execute_result",
          "data": {
            "text/plain": [
              "<matplotlib.axes._subplots.AxesSubplot at 0x7f56b34ba510>"
            ]
          },
          "metadata": {},
          "execution_count": 18
        },
        {
          "output_type": "display_data",
          "data": {
            "text/plain": [
              "<Figure size 1440x720 with 1 Axes>"
            ],
            "image/png": "[encoded data removed]"
          },
          "metadata": {
            "needs_background": "light"
          }
        }
      ]
    },
    {
      "cell_type": "code",
      "source": [
        "plt.figure(figsize=(20,10))\n",
        "sns.countplot(x='language', hue='language', data=songs)"
      ],
      "metadata": {
        "colab": {
          "base_uri": "https://localhost:8080/",
          "height": 623
        },
        "id": "jyiQkoxQF7Ys",
        "outputId": "176d9792-e855-437d-81e6-716a8b934036"
      },
      "execution_count": 19,
      "outputs": [
        {
          "output_type": "execute_result",
          "data": {
            "text/plain": [
              "<matplotlib.axes._subplots.AxesSubplot at 0x7f56b3388150>"
            ]
          },
          "metadata": {},
          "execution_count": 19
        },
        {
          "output_type": "display_data",
          "data": {
            "text/plain": [
              "<Figure size 1440x720 with 1 Axes>"
            ],
            "image/png": "[encoded data removed]"
          },
          "metadata": {
            "needs_background": "light"
          }
        }
      ]
    },
    {
      "cell_type": "code",
      "source": [
        "plt.figure(figsize=(20,10))\n",
        "sns.countplot(x='registered_via', hue='registered_via', data=members)"
      ],
      "metadata": {
        "colab": {
          "base_uri": "https://localhost:8080/",
          "height": 623
        },
        "id": "7rF4CoOrGG8f",
        "outputId": "bfd105e0-502d-476a-c7da-2aa13752dd2d"
      },
      "execution_count": 20,
      "outputs": [
        {
          "output_type": "execute_result",
          "data": {
            "text/plain": [
              "<matplotlib.axes._subplots.AxesSubplot at 0x7f56b301f890>"
            ]
          },
          "metadata": {},
          "execution_count": 20
        },
        {
          "output_type": "display_data",
          "data": {
            "text/plain": [
              "<Figure size 1440x720 with 1 Axes>"
            ],
            "image/png": "[encoded data removed]"
          },
          "metadata": {
            "needs_background": "light"
          }
        }
      ]
    },
    {
      "cell_type": "markdown",
      "source": [
        "**Data Cleaning**"
      ],
      "metadata": {
        "id": "Cu62xgqzGTJz"
      }
    },
    {
      "cell_type": "code",
      "source": [
        "ntr= 7000\n",
        "nts= 3000\n",
        "names=['msno', 'song_id', 'source_system_tab', 'source_screen_name', 'source_type', 'target']\n",
        "test1= pd.read_csv('train.csv', names=names, skiprows=ntr, nrows=nts)"
      ],
      "metadata": {
        "id": "0wd1YMp1GVpB"
      },
      "execution_count": 21,
      "outputs": []
    },
    {
      "cell_type": "code",
      "source": [
        "test= test1.drop(['target'], axis=1)\n",
        "ytr= np.array(test1['target'])"
      ],
      "metadata": {
        "id": "ARIWss52LOFO"
      },
      "execution_count": 22,
      "outputs": []
    },
    {
      "cell_type": "code",
      "source": [
        "test_name = ['id', 'msno', 'song_id', 'source_system_tab', 'source_screen_name', 'source_type']\n",
        "test['id']= np.arange(nts)\n",
        "test= test[test_name]"
      ],
      "metadata": {
        "id": "QEHBA7x2Ldti"
      },
      "execution_count": 23,
      "outputs": []
    },
    {
      "cell_type": "code",
      "source": [
        "song_cols = ['song_id', 'artist_name', 'genre_ids', 'song_length', 'language']\n",
        "train = train.merge(songs[song_cols], on='song_id', how='left')\n",
        "test= test.merge(songs[song_cols], on= 'song_id', how='left')"
      ],
      "metadata": {
        "id": "AgRIFRxhL0RD"
      },
      "execution_count": 24,
      "outputs": []
    },
    {
      "cell_type": "code",
      "source": [
        "members['registration_year']= members['registration_init_time'].apply(lambda x: int(str(x)[0:4]))\n",
        "members['registration_month']= members['registration_init_time'].apply(lambda x: int(str(x)[4:6]))\n",
        "members['registration_date']= members['registration_init_time'].apply(lambda x: int(str(x)[6:8]))"
      ],
      "metadata": {
        "id": "rdsNGrz1MdNb"
      },
      "execution_count": 25,
      "outputs": []
    },
    {
      "cell_type": "code",
      "source": [
        "members['expiration_year']= members['expiration_date'].apply(lambda x: int(str(x)[0:4]))\n",
        "members['expiration_month']= members['expiration_date'].apply(lambda x: int(str(x)[4:6]))\n",
        "members['expiration_date']= members['expiration_date'].apply(lambda x: int(str(x)[6:8]))\n",
        "members = members.drop(['registration_init_time'], axis=1)"
      ],
      "metadata": {
        "id": "mrtdM4oQNDak"
      },
      "execution_count": 26,
      "outputs": []
    },
    {
      "cell_type": "code",
      "source": [
        "members_cols= members.columns\n",
        "train = train.merge(members[members_cols], on='msno', how='left')\n",
        "test = test.merge(members[members_cols], on='msno', how='left')"
      ],
      "metadata": {
        "id": "Py7AOrZ6Nsdv"
      },
      "execution_count": 27,
      "outputs": []
    },
    {
      "cell_type": "code",
      "source": [
        "train= train.fillna(-1)\n",
        "test = test.fillna(-1)"
      ],
      "metadata": {
        "id": "3IjiN9ZkN_8a"
      },
      "execution_count": 28,
      "outputs": []
    },
    {
      "cell_type": "code",
      "source": [
        "import gc\n",
        "del members, songs; gc.collect();"
      ],
      "metadata": {
        "id": "Xf_ekih-Oj1y"
      },
      "execution_count": 29,
      "outputs": []
    },
    {
      "cell_type": "code",
      "source": [
        "cols = list(train.columns)\n",
        "cols.remove('target')"
      ],
      "metadata": {
        "id": "bnAhJulGOvoj"
      },
      "execution_count": 30,
      "outputs": []
    },
    {
      "cell_type": "code",
      "source": [
        "from tqdm import tqdm\n",
        "from sklearn.preprocessing import LabelEncoder\n",
        "for col in tqdm(cols):\n",
        "  if train[col].dtype == 'object':\n",
        "    train[col]= train[col].apply(str)\n",
        "    test[col]= test[col].apply(str)\n",
        "\n",
        "    le = LabelEncoder()\n",
        "    train_vals = list(train[col].unique())\n",
        "    test_vals = list(test[col].unique())\n",
        "    le.fit(train_vals + test_vals)\n",
        "    train[col]= le.transform(train[col])\n",
        "    test[col]= le.transform(test[col])\n"
      ],
      "metadata": {
        "colab": {
          "base_uri": "https://localhost:8080/"
        },
        "id": "2-hy5kStO1gc",
        "outputId": "7a7c1545-aa97-4177-87b3-e76f5edf9795"
      },
      "execution_count": 31,
      "outputs": [
        {
          "output_type": "stream",
          "name": "stderr",
          "text": [
            "100%|██████████| 19/19 [00:00<00:00, 49.61it/s]\n"
          ]
        }
      ]
    },
    {
      "cell_type": "code",
      "source": [
        "unique_songs = range(max(train['song_id'].max(), test['song_id'].max()))\n",
        "song_popularity = pd.DataFrame({'song_id':unique_songs, 'popularity':0})\n",
        "train_sorted = train.sort_values('song_id')\n",
        "train_sorted.reset_index(drop=True, inplace=True)\n",
        "test_sorted= test.sort_values('song_id')\n",
        "test_sorted.reset_index(drop=True, inplace=True)"
      ],
      "metadata": {
        "id": "0CX8y2tZP1be"
      },
      "execution_count": 32,
      "outputs": []
    },
    {
      "cell_type": "markdown",
      "source": [
        "**Building the Model**"
      ],
      "metadata": {
        "id": "AU3CcwEpTICF"
      }
    },
    {
      "cell_type": "code",
      "source": [
        "pip install lightgbm"
      ],
      "metadata": {
        "colab": {
          "base_uri": "https://localhost:8080/"
        },
        "id": "axy9tm6xTG81",
        "outputId": "b961ab1c-56a7-47d9-9f27-1dedf44d0d54"
      },
      "execution_count": 33,
      "outputs": [
        {
          "output_type": "stream",
          "name": "stdout",
          "text": [
            "Looking in indexes: https://pypi.org/simple, https://us-python.pkg.dev/colab-wheels/public/simple/\n",
            "Requirement already satisfied: lightgbm in /usr/local/lib/python3.7/dist-packages (2.2.3)\n",
            "Requirement already satisfied: numpy in /usr/local/lib/python3.7/dist-packages (from lightgbm) (1.21.6)\n",
            "Requirement already satisfied: scipy in /usr/local/lib/python3.7/dist-packages (from lightgbm) (1.7.3)\n",
            "Requirement already satisfied: scikit-learn in /usr/local/lib/python3.7/dist-packages (from lightgbm) (1.0.2)\n",
            "Requirement already satisfied: joblib>=0.11 in /usr/local/lib/python3.7/dist-packages (from scikit-learn->lightgbm) (1.1.0)\n",
            "Requirement already satisfied: threadpoolctl>=2.0.0 in /usr/local/lib/python3.7/dist-packages (from scikit-learn->lightgbm) (3.1.0)\n"
          ]
        }
      ]
    },
    {
      "cell_type": "code",
      "source": [
        "from sklearn.model_selection import train_test_split\n",
        "import lightgbm as lgb\n",
        "X= np.array(train.drop(['target'], axis=1))\n",
        "y= train['target'].values\n",
        "\n",
        "X_test = np.array(test.drop(['id'], axis=1))\n",
        "ids=test['id'].values\n",
        "\n",
        "del train, test; gc.collect();\n",
        "\n",
        "X_train, X_valid, y_train, y_valid = train_test_split(X, y, test_size=0.1, random_state=12)\n",
        "\n",
        "del X, y; gc.collect();\n",
        "\n",
        "d_train = lgb.Dataset(X_train, label=y_train)\n",
        "d_valid = lgb.Dataset(X_valid, label=y_valid)\n",
        "\n",
        "watchlist = [d_train, d_valid]"
      ],
      "metadata": {
        "id": "d7Xv5Z8eTTew"
      },
      "execution_count": 34,
      "outputs": []
    },
    {
      "cell_type": "code",
      "source": [
        "def predict(m1_model):\n",
        "  model= m1_model.fit(X_train, y_train)\n",
        "  print('Training Score : {}'.format(model.score(X_train, y_train)))\n",
        "  y_pred = model.predict(X_valid)\n",
        "  v_test= model.predict(X_test)\n",
        "  yhat = (v_test>0.5).astype(int)\n",
        "  comp= (yhat==ytr).astype(int)\n",
        "  acc= comp.sum()/comp.size*100\n",
        "  print(\"Accuracy on test data for the model\", acc)"
      ],
      "metadata": {
        "id": "LwmLfNIXXD4O"
      },
      "execution_count": 35,
      "outputs": []
    },
    {
      "cell_type": "code",
      "source": [
        "from sklearn.linear_model import LogisticRegression"
      ],
      "metadata": {
        "id": "paoNSgjDZfui"
      },
      "execution_count": 36,
      "outputs": []
    },
    {
      "cell_type": "code",
      "source": [
        "predict(LogisticRegression())"
      ],
      "metadata": {
        "colab": {
          "base_uri": "https://localhost:8080/"
        },
        "id": "WgUeIG76ZscE",
        "outputId": "2bb9668a-adbb-4312-ba00-467e258b8bb0"
      },
      "execution_count": 37,
      "outputs": [
        {
          "output_type": "stream",
          "name": "stdout",
          "text": [
            "Training Score : 0.756324710644488\n",
            "Accuracy on test data for the model 74.9\n"
          ]
        }
      ]
    },
    {
      "cell_type": "markdown",
      "source": [
        "**Prediction using LightGBM**"
      ],
      "metadata": {
        "id": "SOTUcXm5aQmT"
      }
    },
    {
      "cell_type": "code",
      "source": [
        "params= {}\n",
        "params['learning_rate']=0.4\n",
        "params['application']= 'binary'\n",
        "params['max_depth']=15\n",
        "params['num_leaves']= 2*8\n",
        "params['verbosity']=0\n",
        "params['metric']= 'auc'\n",
        "\n",
        "model1= lgb.train(params, train_set=d_train, num_boost_round=200, valid_sets=watchlist, early_stopping_rounds=10, verbose_eval=1)"
      ],
      "metadata": {
        "colab": {
          "base_uri": "https://localhost:8080/"
        },
        "id": "68oqd63GaWSO",
        "outputId": "85e66586-660c-4253-f0e5-f081b805463e"
      },
      "execution_count": 38,
      "outputs": [
        {
          "output_type": "stream",
          "name": "stdout",
          "text": [
            "[1]\ttraining's auc: 0.710663\tvalid_1's auc: 0.699303\n",
            "Training until validation scores don't improve for 10 rounds.\n",
            "[2]\ttraining's auc: 0.716639\tvalid_1's auc: 0.70593\n",
            "[3]\ttraining's auc: 0.741597\tvalid_1's auc: 0.731593\n",
            "[4]\ttraining's auc: 0.752297\tvalid_1's auc: 0.740767\n",
            "[5]\ttraining's auc: 0.755362\tvalid_1's auc: 0.742918\n",
            "[6]\ttraining's auc: 0.764236\tvalid_1's auc: 0.754283\n",
            "[7]\ttraining's auc: 0.768196\tvalid_1's auc: 0.755552\n",
            "[8]\ttraining's auc: 0.773927\tvalid_1's auc: 0.761526\n",
            "[9]\ttraining's auc: 0.777309\tvalid_1's auc: 0.763148\n",
            "[10]\ttraining's auc: 0.781869\tvalid_1's auc: 0.767178\n",
            "[11]\ttraining's auc: 0.785762\tvalid_1's auc: 0.769754\n",
            "[12]\ttraining's auc: 0.787363\tvalid_1's auc: 0.771426\n",
            "[13]\ttraining's auc: 0.789188\tvalid_1's auc: 0.772723\n",
            "[14]\ttraining's auc: 0.792802\tvalid_1's auc: 0.776902\n",
            "[15]\ttraining's auc: 0.795507\tvalid_1's auc: 0.778787\n",
            "[16]\ttraining's auc: 0.796805\tvalid_1's auc: 0.779537\n",
            "[17]\ttraining's auc: 0.799933\tvalid_1's auc: 0.781888\n",
            "[18]\ttraining's auc: 0.802713\tvalid_1's auc: 0.783729\n",
            "[19]\ttraining's auc: 0.804579\tvalid_1's auc: 0.785117\n",
            "[20]\ttraining's auc: 0.80711\tvalid_1's auc: 0.787744\n",
            "[21]\ttraining's auc: 0.808837\tvalid_1's auc: 0.789263\n",
            "[22]\ttraining's auc: 0.810936\tvalid_1's auc: 0.791652\n",
            "[23]\ttraining's auc: 0.813844\tvalid_1's auc: 0.793692\n",
            "[24]\ttraining's auc: 0.81581\tvalid_1's auc: 0.795387\n",
            "[25]\ttraining's auc: 0.818207\tvalid_1's auc: 0.79724\n",
            "[26]\ttraining's auc: 0.819687\tvalid_1's auc: 0.797954\n",
            "[27]\ttraining's auc: 0.822333\tvalid_1's auc: 0.799212\n",
            "[28]\ttraining's auc: 0.824483\tvalid_1's auc: 0.801755\n",
            "[29]\ttraining's auc: 0.82748\tvalid_1's auc: 0.805869\n",
            "[30]\ttraining's auc: 0.82882\tvalid_1's auc: 0.808042\n",
            "[31]\ttraining's auc: 0.829679\tvalid_1's auc: 0.808385\n",
            "[32]\ttraining's auc: 0.831594\tvalid_1's auc: 0.809155\n",
            "[33]\ttraining's auc: 0.832216\tvalid_1's auc: 0.809388\n",
            "[34]\ttraining's auc: 0.832802\tvalid_1's auc: 0.809605\n",
            "[35]\ttraining's auc: 0.833658\tvalid_1's auc: 0.809896\n",
            "[36]\ttraining's auc: 0.834707\tvalid_1's auc: 0.811376\n",
            "[37]\ttraining's auc: 0.837076\tvalid_1's auc: 0.813328\n",
            "[38]\ttraining's auc: 0.838529\tvalid_1's auc: 0.814109\n",
            "[39]\ttraining's auc: 0.840517\tvalid_1's auc: 0.816296\n",
            "[40]\ttraining's auc: 0.842155\tvalid_1's auc: 0.818375\n",
            "[41]\ttraining's auc: 0.843232\tvalid_1's auc: 0.818564\n",
            "[42]\ttraining's auc: 0.844531\tvalid_1's auc: 0.819366\n",
            "[43]\ttraining's auc: 0.846655\tvalid_1's auc: 0.820935\n",
            "[44]\ttraining's auc: 0.847933\tvalid_1's auc: 0.822077\n",
            "[45]\ttraining's auc: 0.848976\tvalid_1's auc: 0.822492\n",
            "[46]\ttraining's auc: 0.849762\tvalid_1's auc: 0.823096\n",
            "[47]\ttraining's auc: 0.850685\tvalid_1's auc: 0.822901\n",
            "[48]\ttraining's auc: 0.851296\tvalid_1's auc: 0.823563\n",
            "[49]\ttraining's auc: 0.852052\tvalid_1's auc: 0.823789\n",
            "[50]\ttraining's auc: 0.852764\tvalid_1's auc: 0.824211\n",
            "[51]\ttraining's auc: 0.85332\tvalid_1's auc: 0.823975\n",
            "[52]\ttraining's auc: 0.853978\tvalid_1's auc: 0.82481\n",
            "[53]\ttraining's auc: 0.855149\tvalid_1's auc: 0.826085\n",
            "[54]\ttraining's auc: 0.856836\tvalid_1's auc: 0.826027\n",
            "[55]\ttraining's auc: 0.858083\tvalid_1's auc: 0.826725\n",
            "[56]\ttraining's auc: 0.858681\tvalid_1's auc: 0.827616\n",
            "[57]\ttraining's auc: 0.859913\tvalid_1's auc: 0.829047\n",
            "[58]\ttraining's auc: 0.861056\tvalid_1's auc: 0.8301\n",
            "[59]\ttraining's auc: 0.86161\tvalid_1's auc: 0.83098\n",
            "[60]\ttraining's auc: 0.862117\tvalid_1's auc: 0.831527\n",
            "[61]\ttraining's auc: 0.862806\tvalid_1's auc: 0.832038\n",
            "[62]\ttraining's auc: 0.864006\tvalid_1's auc: 0.833661\n",
            "[63]\ttraining's auc: 0.864829\tvalid_1's auc: 0.834064\n",
            "[64]\ttraining's auc: 0.86553\tvalid_1's auc: 0.833923\n",
            "[65]\ttraining's auc: 0.866667\tvalid_1's auc: 0.83466\n",
            "[66]\ttraining's auc: 0.867037\tvalid_1's auc: 0.834619\n",
            "[67]\ttraining's auc: 0.867288\tvalid_1's auc: 0.834282\n",
            "[68]\ttraining's auc: 0.86789\tvalid_1's auc: 0.834354\n",
            "[69]\ttraining's auc: 0.868631\tvalid_1's auc: 0.834951\n",
            "[70]\ttraining's auc: 0.869623\tvalid_1's auc: 0.835887\n",
            "[71]\ttraining's auc: 0.870541\tvalid_1's auc: 0.836656\n",
            "[72]\ttraining's auc: 0.871519\tvalid_1's auc: 0.838104\n",
            "[73]\ttraining's auc: 0.872144\tvalid_1's auc: 0.838418\n",
            "[74]\ttraining's auc: 0.872897\tvalid_1's auc: 0.839195\n",
            "[75]\ttraining's auc: 0.873242\tvalid_1's auc: 0.839446\n",
            "[76]\ttraining's auc: 0.873629\tvalid_1's auc: 0.839334\n",
            "[77]\ttraining's auc: 0.873964\tvalid_1's auc: 0.839318\n",
            "[78]\ttraining's auc: 0.874443\tvalid_1's auc: 0.839305\n",
            "[79]\ttraining's auc: 0.874737\tvalid_1's auc: 0.839411\n",
            "[80]\ttraining's auc: 0.875441\tvalid_1's auc: 0.839709\n",
            "[81]\ttraining's auc: 0.8763\tvalid_1's auc: 0.84054\n",
            "[82]\ttraining's auc: 0.877245\tvalid_1's auc: 0.841738\n",
            "[83]\ttraining's auc: 0.877997\tvalid_1's auc: 0.842575\n",
            "[84]\ttraining's auc: 0.878397\tvalid_1's auc: 0.842756\n",
            "[85]\ttraining's auc: 0.87905\tvalid_1's auc: 0.843399\n",
            "[86]\ttraining's auc: 0.879799\tvalid_1's auc: 0.84404\n",
            "[87]\ttraining's auc: 0.880493\tvalid_1's auc: 0.844286\n",
            "[88]\ttraining's auc: 0.881057\tvalid_1's auc: 0.844587\n",
            "[89]\ttraining's auc: 0.881487\tvalid_1's auc: 0.844429\n",
            "[90]\ttraining's auc: 0.881855\tvalid_1's auc: 0.844584\n",
            "[91]\ttraining's auc: 0.882155\tvalid_1's auc: 0.844604\n",
            "[92]\ttraining's auc: 0.882602\tvalid_1's auc: 0.844626\n",
            "[93]\ttraining's auc: 0.883337\tvalid_1's auc: 0.845759\n",
            "[94]\ttraining's auc: 0.883588\tvalid_1's auc: 0.84596\n",
            "[95]\ttraining's auc: 0.884059\tvalid_1's auc: 0.846012\n",
            "[96]\ttraining's auc: 0.884418\tvalid_1's auc: 0.845818\n",
            "[97]\ttraining's auc: 0.884817\tvalid_1's auc: 0.845769\n",
            "[98]\ttraining's auc: 0.885322\tvalid_1's auc: 0.846173\n",
            "[99]\ttraining's auc: 0.88567\tvalid_1's auc: 0.846222\n",
            "[100]\ttraining's auc: 0.885892\tvalid_1's auc: 0.846377\n",
            "[101]\ttraining's auc: 0.886468\tvalid_1's auc: 0.846993\n",
            "[102]\ttraining's auc: 0.886727\tvalid_1's auc: 0.847227\n",
            "[103]\ttraining's auc: 0.887\tvalid_1's auc: 0.84754\n",
            "[104]\ttraining's auc: 0.887338\tvalid_1's auc: 0.847487\n",
            "[105]\ttraining's auc: 0.887505\tvalid_1's auc: 0.847641\n",
            "[106]\ttraining's auc: 0.887832\tvalid_1's auc: 0.848184\n",
            "[107]\ttraining's auc: 0.888518\tvalid_1's auc: 0.849053\n",
            "[108]\ttraining's auc: 0.888807\tvalid_1's auc: 0.849125\n",
            "[109]\ttraining's auc: 0.889013\tvalid_1's auc: 0.849376\n",
            "[110]\ttraining's auc: 0.889313\tvalid_1's auc: 0.849185\n",
            "[111]\ttraining's auc: 0.889984\tvalid_1's auc: 0.850205\n",
            "[112]\ttraining's auc: 0.890431\tvalid_1's auc: 0.850286\n",
            "[113]\ttraining's auc: 0.891028\tvalid_1's auc: 0.850746\n",
            "[114]\ttraining's auc: 0.891223\tvalid_1's auc: 0.850834\n",
            "[115]\ttraining's auc: 0.891415\tvalid_1's auc: 0.85087\n",
            "[116]\ttraining's auc: 0.891746\tvalid_1's auc: 0.851207\n",
            "[117]\ttraining's auc: 0.892205\tvalid_1's auc: 0.851617\n",
            "[118]\ttraining's auc: 0.892414\tvalid_1's auc: 0.851753\n",
            "[119]\ttraining's auc: 0.892983\tvalid_1's auc: 0.851506\n",
            "[120]\ttraining's auc: 0.893478\tvalid_1's auc: 0.851883\n",
            "[121]\ttraining's auc: 0.893936\tvalid_1's auc: 0.852203\n",
            "[122]\ttraining's auc: 0.894541\tvalid_1's auc: 0.852917\n",
            "[123]\ttraining's auc: 0.895034\tvalid_1's auc: 0.8526\n",
            "[124]\ttraining's auc: 0.895531\tvalid_1's auc: 0.852874\n",
            "[125]\ttraining's auc: 0.895724\tvalid_1's auc: 0.852821\n",
            "[126]\ttraining's auc: 0.896013\tvalid_1's auc: 0.853061\n",
            "[127]\ttraining's auc: 0.896329\tvalid_1's auc: 0.853129\n",
            "[128]\ttraining's auc: 0.896799\tvalid_1's auc: 0.852967\n",
            "[129]\ttraining's auc: 0.897014\tvalid_1's auc: 0.853149\n",
            "[130]\ttraining's auc: 0.897606\tvalid_1's auc: 0.853509\n",
            "[131]\ttraining's auc: 0.898225\tvalid_1's auc: 0.853831\n",
            "[132]\ttraining's auc: 0.898549\tvalid_1's auc: 0.85395\n",
            "[133]\ttraining's auc: 0.898937\tvalid_1's auc: 0.854068\n",
            "[134]\ttraining's auc: 0.899293\tvalid_1's auc: 0.854031\n",
            "[135]\ttraining's auc: 0.899392\tvalid_1's auc: 0.854197\n",
            "[136]\ttraining's auc: 0.900002\tvalid_1's auc: 0.854971\n",
            "[137]\ttraining's auc: 0.900348\tvalid_1's auc: 0.855094\n",
            "[138]\ttraining's auc: 0.900678\tvalid_1's auc: 0.855034\n",
            "[139]\ttraining's auc: 0.901336\tvalid_1's auc: 0.85532\n",
            "[140]\ttraining's auc: 0.901401\tvalid_1's auc: 0.855186\n",
            "[141]\ttraining's auc: 0.901601\tvalid_1's auc: 0.855401\n",
            "[142]\ttraining's auc: 0.902099\tvalid_1's auc: 0.855866\n",
            "[143]\ttraining's auc: 0.902448\tvalid_1's auc: 0.856322\n",
            "[144]\ttraining's auc: 0.902682\tvalid_1's auc: 0.856382\n",
            "[145]\ttraining's auc: 0.902957\tvalid_1's auc: 0.856745\n",
            "[146]\ttraining's auc: 0.903137\tvalid_1's auc: 0.85666\n",
            "[147]\ttraining's auc: 0.903387\tvalid_1's auc: 0.857001\n",
            "[148]\ttraining's auc: 0.903751\tvalid_1's auc: 0.856607\n",
            "[149]\ttraining's auc: 0.904158\tvalid_1's auc: 0.857036\n",
            "[150]\ttraining's auc: 0.904245\tvalid_1's auc: 0.856943\n",
            "[151]\ttraining's auc: 0.904702\tvalid_1's auc: 0.857159\n",
            "[152]\ttraining's auc: 0.904954\tvalid_1's auc: 0.857182\n",
            "[153]\ttraining's auc: 0.905254\tvalid_1's auc: 0.857152\n",
            "[154]\ttraining's auc: 0.90545\tvalid_1's auc: 0.85706\n",
            "[155]\ttraining's auc: 0.905823\tvalid_1's auc: 0.857618\n",
            "[156]\ttraining's auc: 0.906488\tvalid_1's auc: 0.858019\n",
            "[157]\ttraining's auc: 0.90683\tvalid_1's auc: 0.858026\n",
            "[158]\ttraining's auc: 0.906946\tvalid_1's auc: 0.857974\n",
            "[159]\ttraining's auc: 0.907201\tvalid_1's auc: 0.857853\n",
            "[160]\ttraining's auc: 0.907453\tvalid_1's auc: 0.857818\n",
            "[161]\ttraining's auc: 0.907704\tvalid_1's auc: 0.857776\n",
            "[162]\ttraining's auc: 0.907975\tvalid_1's auc: 0.857752\n",
            "[163]\ttraining's auc: 0.908148\tvalid_1's auc: 0.857646\n",
            "[164]\ttraining's auc: 0.908573\tvalid_1's auc: 0.857879\n",
            "[165]\ttraining's auc: 0.908824\tvalid_1's auc: 0.857978\n",
            "[166]\ttraining's auc: 0.908995\tvalid_1's auc: 0.858174\n",
            "[167]\ttraining's auc: 0.909519\tvalid_1's auc: 0.858498\n",
            "[168]\ttraining's auc: 0.909897\tvalid_1's auc: 0.859018\n",
            "[169]\ttraining's auc: 0.910057\tvalid_1's auc: 0.859056\n",
            "[170]\ttraining's auc: 0.91018\tvalid_1's auc: 0.858933\n",
            "[171]\ttraining's auc: 0.910435\tvalid_1's auc: 0.858774\n",
            "[172]\ttraining's auc: 0.910787\tvalid_1's auc: 0.858928\n",
            "[173]\ttraining's auc: 0.911201\tvalid_1's auc: 0.859795\n",
            "[174]\ttraining's auc: 0.911747\tvalid_1's auc: 0.860051\n",
            "[175]\ttraining's auc: 0.911952\tvalid_1's auc: 0.859947\n",
            "[176]\ttraining's auc: 0.91219\tvalid_1's auc: 0.859742\n",
            "[177]\ttraining's auc: 0.912404\tvalid_1's auc: 0.859575\n",
            "[178]\ttraining's auc: 0.912615\tvalid_1's auc: 0.859376\n",
            "[179]\ttraining's auc: 0.912733\tvalid_1's auc: 0.859293\n",
            "[180]\ttraining's auc: 0.913013\tvalid_1's auc: 0.859448\n",
            "[181]\ttraining's auc: 0.913331\tvalid_1's auc: 0.859685\n",
            "[182]\ttraining's auc: 0.913539\tvalid_1's auc: 0.859629\n",
            "[183]\ttraining's auc: 0.913965\tvalid_1's auc: 0.859729\n",
            "[184]\ttraining's auc: 0.914196\tvalid_1's auc: 0.860199\n",
            "[185]\ttraining's auc: 0.914461\tvalid_1's auc: 0.860105\n",
            "[186]\ttraining's auc: 0.9149\tvalid_1's auc: 0.860069\n",
            "[187]\ttraining's auc: 0.915192\tvalid_1's auc: 0.859789\n",
            "[188]\ttraining's auc: 0.915401\tvalid_1's auc: 0.859718\n",
            "[189]\ttraining's auc: 0.915537\tvalid_1's auc: 0.859776\n",
            "[190]\ttraining's auc: 0.916127\tvalid_1's auc: 0.860317\n",
            "[191]\ttraining's auc: 0.916441\tvalid_1's auc: 0.860537\n",
            "[192]\ttraining's auc: 0.916577\tvalid_1's auc: 0.860631\n",
            "[193]\ttraining's auc: 0.916861\tvalid_1's auc: 0.861087\n",
            "[194]\ttraining's auc: 0.916973\tvalid_1's auc: 0.861163\n",
            "[195]\ttraining's auc: 0.917126\tvalid_1's auc: 0.861054\n",
            "[196]\ttraining's auc: 0.91722\tvalid_1's auc: 0.861438\n",
            "[197]\ttraining's auc: 0.917392\tvalid_1's auc: 0.861458\n",
            "[198]\ttraining's auc: 0.917724\tvalid_1's auc: 0.861453\n",
            "[199]\ttraining's auc: 0.917889\tvalid_1's auc: 0.861578\n",
            "[200]\ttraining's auc: 0.918177\tvalid_1's auc: 0.861656\n",
            "Did not meet early stopping. Best iteration is:\n",
            "[200]\ttraining's auc: 0.918177\tvalid_1's auc: 0.861656\n"
          ]
        }
      ]
    },
    {
      "cell_type": "code",
      "source": [
        "p_test = model1.predict(X_test)"
      ],
      "metadata": {
        "id": "cwPQh1TYbYo9"
      },
      "execution_count": 39,
      "outputs": []
    },
    {
      "cell_type": "code",
      "source": [
        "yhat = (p_test>0.5).astype(int)\n",
        "comp = (yhat==ytr).astype(int)\n",
        "acc = comp.sum()/comp.size*100\n",
        "print('The accuracy of lgbm model on test data is: {0:f}%'.format(acc))"
      ],
      "metadata": {
        "colab": {
          "base_uri": "https://localhost:8080/"
        },
        "id": "W2UTfL0-bdYQ",
        "outputId": "56ccf2a1-9992-49f9-dbf4-894ad0bbed46"
      },
      "execution_count": 40,
      "outputs": [
        {
          "output_type": "stream",
          "name": "stdout",
          "text": [
            "The accuracy of lgbm model on test data is: 86.466667%\n"
          ]
        }
      ]
    }
  ]
}